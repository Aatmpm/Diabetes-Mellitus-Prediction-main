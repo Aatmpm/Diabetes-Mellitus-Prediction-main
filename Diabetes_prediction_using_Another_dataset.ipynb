{
  "cells": [
    {
      "cell_type": "markdown",
      "metadata": {
        "id": "view-in-github",
        "colab_type": "text"
      },
      "source": [
        "<a href=\"https://colab.research.google.com/github/Ogneev/Diabetes-Mellitus-Prediction/blob/main/Diabetes_prediction_using_Another_dataset.ipynb\" target=\"_parent\"><img src=\"https://colab.research.google.com/assets/colab-badge.svg\" alt=\"Open In Colab\"/></a>"
      ]
    },
    {
      "cell_type": "code",
      "execution_count": 108,
      "metadata": {
        "id": "F5m5oD0HqdET"
      },
      "outputs": [],
      "source": [
        "import pandas as pd\n",
        "import numpy as np\n",
        "import seaborn as sns\n",
        "import matplotlib.pyplot as plt\n",
        "%matplotlib inline"
      ]
    },
    {
      "cell_type": "code",
      "execution_count": 109,
      "metadata": {
        "colab": {
          "base_uri": "https://localhost:8080/",
          "height": 332
        },
        "id": "VULxRjsWqdEZ",
        "outputId": "a4fa6196-b6fe-4c62-9337-993612d9a861"
      },
      "outputs": [
        {
          "output_type": "stream",
          "name": "stdout",
          "text": [
            "Index(['Age', 'Gender', 'Polyuria', 'Polydipsia', 'sudden weight loss',\n",
            "       'weakness', 'Polyphagia', 'Genital thrush', 'visual blurring',\n",
            "       'Itching', 'Irritability', 'delayed healing', 'partial paresis',\n",
            "       'muscle stiffness', 'Alopecia', 'Obesity', 'class'],\n",
            "      dtype='object')\n"
          ]
        },
        {
          "output_type": "execute_result",
          "data": {
            "text/html": [
              "<div>\n",
              "<style scoped>\n",
              "    .dataframe tbody tr th:only-of-type {\n",
              "        vertical-align: middle;\n",
              "    }\n",
              "\n",
              "    .dataframe tbody tr th {\n",
              "        vertical-align: top;\n",
              "    }\n",
              "\n",
              "    .dataframe thead th {\n",
              "        text-align: right;\n",
              "    }\n",
              "</style>\n",
              "<table border=\"1\" class=\"dataframe\">\n",
              "  <thead>\n",
              "    <tr style=\"text-align: right;\">\n",
              "      <th></th>\n",
              "      <th>Age</th>\n",
              "      <th>Gender</th>\n",
              "      <th>Polyuria</th>\n",
              "      <th>Polydipsia</th>\n",
              "      <th>sudden weight loss</th>\n",
              "      <th>weakness</th>\n",
              "      <th>Polyphagia</th>\n",
              "      <th>Genital thrush</th>\n",
              "      <th>visual blurring</th>\n",
              "      <th>Itching</th>\n",
              "      <th>Irritability</th>\n",
              "      <th>delayed healing</th>\n",
              "      <th>partial paresis</th>\n",
              "      <th>muscle stiffness</th>\n",
              "      <th>Alopecia</th>\n",
              "      <th>Obesity</th>\n",
              "      <th>class</th>\n",
              "    </tr>\n",
              "  </thead>\n",
              "  <tbody>\n",
              "    <tr>\n",
              "      <th>0</th>\n",
              "      <td>40</td>\n",
              "      <td>Male</td>\n",
              "      <td>No</td>\n",
              "      <td>Yes</td>\n",
              "      <td>No</td>\n",
              "      <td>Yes</td>\n",
              "      <td>No</td>\n",
              "      <td>No</td>\n",
              "      <td>No</td>\n",
              "      <td>Yes</td>\n",
              "      <td>No</td>\n",
              "      <td>Yes</td>\n",
              "      <td>No</td>\n",
              "      <td>Yes</td>\n",
              "      <td>Yes</td>\n",
              "      <td>Yes</td>\n",
              "      <td>Positive</td>\n",
              "    </tr>\n",
              "    <tr>\n",
              "      <th>1</th>\n",
              "      <td>58</td>\n",
              "      <td>Male</td>\n",
              "      <td>No</td>\n",
              "      <td>No</td>\n",
              "      <td>No</td>\n",
              "      <td>Yes</td>\n",
              "      <td>No</td>\n",
              "      <td>No</td>\n",
              "      <td>Yes</td>\n",
              "      <td>No</td>\n",
              "      <td>No</td>\n",
              "      <td>No</td>\n",
              "      <td>Yes</td>\n",
              "      <td>No</td>\n",
              "      <td>Yes</td>\n",
              "      <td>No</td>\n",
              "      <td>Positive</td>\n",
              "    </tr>\n",
              "    <tr>\n",
              "      <th>2</th>\n",
              "      <td>41</td>\n",
              "      <td>Male</td>\n",
              "      <td>Yes</td>\n",
              "      <td>No</td>\n",
              "      <td>No</td>\n",
              "      <td>Yes</td>\n",
              "      <td>Yes</td>\n",
              "      <td>No</td>\n",
              "      <td>No</td>\n",
              "      <td>Yes</td>\n",
              "      <td>No</td>\n",
              "      <td>Yes</td>\n",
              "      <td>No</td>\n",
              "      <td>Yes</td>\n",
              "      <td>Yes</td>\n",
              "      <td>No</td>\n",
              "      <td>Positive</td>\n",
              "    </tr>\n",
              "    <tr>\n",
              "      <th>3</th>\n",
              "      <td>45</td>\n",
              "      <td>Male</td>\n",
              "      <td>No</td>\n",
              "      <td>No</td>\n",
              "      <td>Yes</td>\n",
              "      <td>Yes</td>\n",
              "      <td>Yes</td>\n",
              "      <td>Yes</td>\n",
              "      <td>No</td>\n",
              "      <td>Yes</td>\n",
              "      <td>No</td>\n",
              "      <td>Yes</td>\n",
              "      <td>No</td>\n",
              "      <td>No</td>\n",
              "      <td>No</td>\n",
              "      <td>No</td>\n",
              "      <td>Positive</td>\n",
              "    </tr>\n",
              "    <tr>\n",
              "      <th>4</th>\n",
              "      <td>60</td>\n",
              "      <td>Male</td>\n",
              "      <td>Yes</td>\n",
              "      <td>Yes</td>\n",
              "      <td>Yes</td>\n",
              "      <td>Yes</td>\n",
              "      <td>Yes</td>\n",
              "      <td>No</td>\n",
              "      <td>Yes</td>\n",
              "      <td>Yes</td>\n",
              "      <td>Yes</td>\n",
              "      <td>Yes</td>\n",
              "      <td>Yes</td>\n",
              "      <td>Yes</td>\n",
              "      <td>Yes</td>\n",
              "      <td>Yes</td>\n",
              "      <td>Positive</td>\n",
              "    </tr>\n",
              "  </tbody>\n",
              "</table>\n",
              "</div>"
            ],
            "text/plain": [
              "   Age Gender Polyuria Polydipsia  ... muscle stiffness Alopecia Obesity     class\n",
              "0   40   Male       No        Yes  ...              Yes      Yes     Yes  Positive\n",
              "1   58   Male       No         No  ...               No      Yes      No  Positive\n",
              "2   41   Male      Yes         No  ...              Yes      Yes      No  Positive\n",
              "3   45   Male       No         No  ...               No       No      No  Positive\n",
              "4   60   Male      Yes        Yes  ...              Yes      Yes     Yes  Positive\n",
              "\n",
              "[5 rows x 17 columns]"
            ]
          },
          "metadata": {},
          "execution_count": 109
        }
      ],
      "source": [
        "df=pd.read_csv('/content/diabetes_data_upload.csv')\n",
        "print(df.columns)\n",
        "df.head()"
      ]
    },
    {
      "cell_type": "code",
      "source": [
        "df = df.replace({'Gender': {'Male': 1,'Female': 0}})\n",
        "df = df.replace({'Polyuria': {'Yes': 1,'No': 0}})\n",
        "df = df.replace({'Polydipsia': {'Yes': 1,'No': 0}})\n",
        "df = df.replace({'sudden weight loss': {'Yes': 1,'No': 0}})\n",
        "df = df.replace({'weakness': {'Yes': 1,'No': 0}})\n",
        "df = df.replace({'Polyphagia': {'Yes': 1,'No': 0}})\n",
        "df = df.replace({'Genital thrush': {'Yes': 1,'No': 0}})\n",
        "df = df.replace({'visual blurring': {'Yes': 1,'No': 0}})\n",
        "df = df.replace({'Itching': {'Yes': 1,'No': 0}})\n",
        "df = df.replace({'Irritability': {'Yes': 1,'No': 0}})\n",
        "df = df.replace({'delayed healing': {'Yes': 1,'No': 0}})\n",
        "df = df.replace({'partial paresis': {'Yes': 1,'No': 0}})\n",
        "df = df.replace({'muscle stiffness': {'Yes': 1,'No': 0}})\n",
        "df = df.replace({'Alopecia': {'Yes': 1,'No': 0}})\n",
        "df = df.replace({'Obesity': {'Yes': 1,'No': 0}})\n",
        "df = df.replace({'class': {'Positive': 1,'Negative': 0}})\n",
        "df.head()"
      ],
      "metadata": {
        "colab": {
          "base_uri": "https://localhost:8080/",
          "height": 241
        },
        "id": "Mgz6iTh5y6ba",
        "outputId": "fda7a84e-6933-4d48-ce17-19ed329688f5"
      },
      "execution_count": 110,
      "outputs": [
        {
          "output_type": "execute_result",
          "data": {
            "text/html": [
              "<div>\n",
              "<style scoped>\n",
              "    .dataframe tbody tr th:only-of-type {\n",
              "        vertical-align: middle;\n",
              "    }\n",
              "\n",
              "    .dataframe tbody tr th {\n",
              "        vertical-align: top;\n",
              "    }\n",
              "\n",
              "    .dataframe thead th {\n",
              "        text-align: right;\n",
              "    }\n",
              "</style>\n",
              "<table border=\"1\" class=\"dataframe\">\n",
              "  <thead>\n",
              "    <tr style=\"text-align: right;\">\n",
              "      <th></th>\n",
              "      <th>Age</th>\n",
              "      <th>Gender</th>\n",
              "      <th>Polyuria</th>\n",
              "      <th>Polydipsia</th>\n",
              "      <th>sudden weight loss</th>\n",
              "      <th>weakness</th>\n",
              "      <th>Polyphagia</th>\n",
              "      <th>Genital thrush</th>\n",
              "      <th>visual blurring</th>\n",
              "      <th>Itching</th>\n",
              "      <th>Irritability</th>\n",
              "      <th>delayed healing</th>\n",
              "      <th>partial paresis</th>\n",
              "      <th>muscle stiffness</th>\n",
              "      <th>Alopecia</th>\n",
              "      <th>Obesity</th>\n",
              "      <th>class</th>\n",
              "    </tr>\n",
              "  </thead>\n",
              "  <tbody>\n",
              "    <tr>\n",
              "      <th>0</th>\n",
              "      <td>40</td>\n",
              "      <td>1</td>\n",
              "      <td>0</td>\n",
              "      <td>1</td>\n",
              "      <td>0</td>\n",
              "      <td>1</td>\n",
              "      <td>0</td>\n",
              "      <td>0</td>\n",
              "      <td>0</td>\n",
              "      <td>1</td>\n",
              "      <td>0</td>\n",
              "      <td>1</td>\n",
              "      <td>0</td>\n",
              "      <td>1</td>\n",
              "      <td>1</td>\n",
              "      <td>1</td>\n",
              "      <td>1</td>\n",
              "    </tr>\n",
              "    <tr>\n",
              "      <th>1</th>\n",
              "      <td>58</td>\n",
              "      <td>1</td>\n",
              "      <td>0</td>\n",
              "      <td>0</td>\n",
              "      <td>0</td>\n",
              "      <td>1</td>\n",
              "      <td>0</td>\n",
              "      <td>0</td>\n",
              "      <td>1</td>\n",
              "      <td>0</td>\n",
              "      <td>0</td>\n",
              "      <td>0</td>\n",
              "      <td>1</td>\n",
              "      <td>0</td>\n",
              "      <td>1</td>\n",
              "      <td>0</td>\n",
              "      <td>1</td>\n",
              "    </tr>\n",
              "    <tr>\n",
              "      <th>2</th>\n",
              "      <td>41</td>\n",
              "      <td>1</td>\n",
              "      <td>1</td>\n",
              "      <td>0</td>\n",
              "      <td>0</td>\n",
              "      <td>1</td>\n",
              "      <td>1</td>\n",
              "      <td>0</td>\n",
              "      <td>0</td>\n",
              "      <td>1</td>\n",
              "      <td>0</td>\n",
              "      <td>1</td>\n",
              "      <td>0</td>\n",
              "      <td>1</td>\n",
              "      <td>1</td>\n",
              "      <td>0</td>\n",
              "      <td>1</td>\n",
              "    </tr>\n",
              "    <tr>\n",
              "      <th>3</th>\n",
              "      <td>45</td>\n",
              "      <td>1</td>\n",
              "      <td>0</td>\n",
              "      <td>0</td>\n",
              "      <td>1</td>\n",
              "      <td>1</td>\n",
              "      <td>1</td>\n",
              "      <td>1</td>\n",
              "      <td>0</td>\n",
              "      <td>1</td>\n",
              "      <td>0</td>\n",
              "      <td>1</td>\n",
              "      <td>0</td>\n",
              "      <td>0</td>\n",
              "      <td>0</td>\n",
              "      <td>0</td>\n",
              "      <td>1</td>\n",
              "    </tr>\n",
              "    <tr>\n",
              "      <th>4</th>\n",
              "      <td>60</td>\n",
              "      <td>1</td>\n",
              "      <td>1</td>\n",
              "      <td>1</td>\n",
              "      <td>1</td>\n",
              "      <td>1</td>\n",
              "      <td>1</td>\n",
              "      <td>0</td>\n",
              "      <td>1</td>\n",
              "      <td>1</td>\n",
              "      <td>1</td>\n",
              "      <td>1</td>\n",
              "      <td>1</td>\n",
              "      <td>1</td>\n",
              "      <td>1</td>\n",
              "      <td>1</td>\n",
              "      <td>1</td>\n",
              "    </tr>\n",
              "  </tbody>\n",
              "</table>\n",
              "</div>"
            ],
            "text/plain": [
              "   Age  Gender  Polyuria  ...  Alopecia  Obesity  class\n",
              "0   40       1         0  ...         1        1      1\n",
              "1   58       1         0  ...         1        0      1\n",
              "2   41       1         1  ...         1        0      1\n",
              "3   45       1         0  ...         0        0      1\n",
              "4   60       1         1  ...         1        1      1\n",
              "\n",
              "[5 rows x 17 columns]"
            ]
          },
          "metadata": {},
          "execution_count": 110
        }
      ]
    },
    {
      "cell_type": "code",
      "execution_count": 111,
      "metadata": {
        "colab": {
          "base_uri": "https://localhost:8080/",
          "height": 355
        },
        "id": "X20gtWQRqdEa",
        "outputId": "c622dd36-6a96-4972-e26d-fcd5f3c1ebe3"
      },
      "outputs": [
        {
          "output_type": "execute_result",
          "data": {
            "text/html": [
              "<div>\n",
              "<style scoped>\n",
              "    .dataframe tbody tr th:only-of-type {\n",
              "        vertical-align: middle;\n",
              "    }\n",
              "\n",
              "    .dataframe tbody tr th {\n",
              "        vertical-align: top;\n",
              "    }\n",
              "\n",
              "    .dataframe thead th {\n",
              "        text-align: right;\n",
              "    }\n",
              "</style>\n",
              "<table border=\"1\" class=\"dataframe\">\n",
              "  <thead>\n",
              "    <tr style=\"text-align: right;\">\n",
              "      <th></th>\n",
              "      <th>Age</th>\n",
              "      <th>Gender</th>\n",
              "      <th>Polyuria</th>\n",
              "      <th>Polydipsia</th>\n",
              "      <th>sudden weight loss</th>\n",
              "      <th>weakness</th>\n",
              "      <th>Polyphagia</th>\n",
              "      <th>Genital thrush</th>\n",
              "      <th>visual blurring</th>\n",
              "      <th>Itching</th>\n",
              "      <th>Irritability</th>\n",
              "      <th>delayed healing</th>\n",
              "      <th>partial paresis</th>\n",
              "      <th>muscle stiffness</th>\n",
              "      <th>Alopecia</th>\n",
              "      <th>Obesity</th>\n",
              "      <th>class</th>\n",
              "    </tr>\n",
              "  </thead>\n",
              "  <tbody>\n",
              "    <tr>\n",
              "      <th>count</th>\n",
              "      <td>520.000000</td>\n",
              "      <td>520.000000</td>\n",
              "      <td>520.000000</td>\n",
              "      <td>520.000000</td>\n",
              "      <td>520.000000</td>\n",
              "      <td>520.000000</td>\n",
              "      <td>520.000000</td>\n",
              "      <td>520.000000</td>\n",
              "      <td>520.000000</td>\n",
              "      <td>520.000000</td>\n",
              "      <td>520.000000</td>\n",
              "      <td>520.000000</td>\n",
              "      <td>520.000000</td>\n",
              "      <td>520.000000</td>\n",
              "      <td>520.000000</td>\n",
              "      <td>520.000000</td>\n",
              "      <td>520.000000</td>\n",
              "    </tr>\n",
              "    <tr>\n",
              "      <th>mean</th>\n",
              "      <td>48.028846</td>\n",
              "      <td>0.630769</td>\n",
              "      <td>0.496154</td>\n",
              "      <td>0.448077</td>\n",
              "      <td>0.417308</td>\n",
              "      <td>0.586538</td>\n",
              "      <td>0.455769</td>\n",
              "      <td>0.223077</td>\n",
              "      <td>0.448077</td>\n",
              "      <td>0.486538</td>\n",
              "      <td>0.242308</td>\n",
              "      <td>0.459615</td>\n",
              "      <td>0.430769</td>\n",
              "      <td>0.375000</td>\n",
              "      <td>0.344231</td>\n",
              "      <td>0.169231</td>\n",
              "      <td>0.615385</td>\n",
              "    </tr>\n",
              "    <tr>\n",
              "      <th>std</th>\n",
              "      <td>12.151466</td>\n",
              "      <td>0.483061</td>\n",
              "      <td>0.500467</td>\n",
              "      <td>0.497776</td>\n",
              "      <td>0.493589</td>\n",
              "      <td>0.492928</td>\n",
              "      <td>0.498519</td>\n",
              "      <td>0.416710</td>\n",
              "      <td>0.497776</td>\n",
              "      <td>0.500300</td>\n",
              "      <td>0.428892</td>\n",
              "      <td>0.498846</td>\n",
              "      <td>0.495661</td>\n",
              "      <td>0.484589</td>\n",
              "      <td>0.475574</td>\n",
              "      <td>0.375317</td>\n",
              "      <td>0.486973</td>\n",
              "    </tr>\n",
              "    <tr>\n",
              "      <th>min</th>\n",
              "      <td>16.000000</td>\n",
              "      <td>0.000000</td>\n",
              "      <td>0.000000</td>\n",
              "      <td>0.000000</td>\n",
              "      <td>0.000000</td>\n",
              "      <td>0.000000</td>\n",
              "      <td>0.000000</td>\n",
              "      <td>0.000000</td>\n",
              "      <td>0.000000</td>\n",
              "      <td>0.000000</td>\n",
              "      <td>0.000000</td>\n",
              "      <td>0.000000</td>\n",
              "      <td>0.000000</td>\n",
              "      <td>0.000000</td>\n",
              "      <td>0.000000</td>\n",
              "      <td>0.000000</td>\n",
              "      <td>0.000000</td>\n",
              "    </tr>\n",
              "    <tr>\n",
              "      <th>25%</th>\n",
              "      <td>39.000000</td>\n",
              "      <td>0.000000</td>\n",
              "      <td>0.000000</td>\n",
              "      <td>0.000000</td>\n",
              "      <td>0.000000</td>\n",
              "      <td>0.000000</td>\n",
              "      <td>0.000000</td>\n",
              "      <td>0.000000</td>\n",
              "      <td>0.000000</td>\n",
              "      <td>0.000000</td>\n",
              "      <td>0.000000</td>\n",
              "      <td>0.000000</td>\n",
              "      <td>0.000000</td>\n",
              "      <td>0.000000</td>\n",
              "      <td>0.000000</td>\n",
              "      <td>0.000000</td>\n",
              "      <td>0.000000</td>\n",
              "    </tr>\n",
              "    <tr>\n",
              "      <th>50%</th>\n",
              "      <td>47.500000</td>\n",
              "      <td>1.000000</td>\n",
              "      <td>0.000000</td>\n",
              "      <td>0.000000</td>\n",
              "      <td>0.000000</td>\n",
              "      <td>1.000000</td>\n",
              "      <td>0.000000</td>\n",
              "      <td>0.000000</td>\n",
              "      <td>0.000000</td>\n",
              "      <td>0.000000</td>\n",
              "      <td>0.000000</td>\n",
              "      <td>0.000000</td>\n",
              "      <td>0.000000</td>\n",
              "      <td>0.000000</td>\n",
              "      <td>0.000000</td>\n",
              "      <td>0.000000</td>\n",
              "      <td>1.000000</td>\n",
              "    </tr>\n",
              "    <tr>\n",
              "      <th>75%</th>\n",
              "      <td>57.000000</td>\n",
              "      <td>1.000000</td>\n",
              "      <td>1.000000</td>\n",
              "      <td>1.000000</td>\n",
              "      <td>1.000000</td>\n",
              "      <td>1.000000</td>\n",
              "      <td>1.000000</td>\n",
              "      <td>0.000000</td>\n",
              "      <td>1.000000</td>\n",
              "      <td>1.000000</td>\n",
              "      <td>0.000000</td>\n",
              "      <td>1.000000</td>\n",
              "      <td>1.000000</td>\n",
              "      <td>1.000000</td>\n",
              "      <td>1.000000</td>\n",
              "      <td>0.000000</td>\n",
              "      <td>1.000000</td>\n",
              "    </tr>\n",
              "    <tr>\n",
              "      <th>max</th>\n",
              "      <td>90.000000</td>\n",
              "      <td>1.000000</td>\n",
              "      <td>1.000000</td>\n",
              "      <td>1.000000</td>\n",
              "      <td>1.000000</td>\n",
              "      <td>1.000000</td>\n",
              "      <td>1.000000</td>\n",
              "      <td>1.000000</td>\n",
              "      <td>1.000000</td>\n",
              "      <td>1.000000</td>\n",
              "      <td>1.000000</td>\n",
              "      <td>1.000000</td>\n",
              "      <td>1.000000</td>\n",
              "      <td>1.000000</td>\n",
              "      <td>1.000000</td>\n",
              "      <td>1.000000</td>\n",
              "      <td>1.000000</td>\n",
              "    </tr>\n",
              "  </tbody>\n",
              "</table>\n",
              "</div>"
            ],
            "text/plain": [
              "              Age      Gender    Polyuria  ...    Alopecia     Obesity       class\n",
              "count  520.000000  520.000000  520.000000  ...  520.000000  520.000000  520.000000\n",
              "mean    48.028846    0.630769    0.496154  ...    0.344231    0.169231    0.615385\n",
              "std     12.151466    0.483061    0.500467  ...    0.475574    0.375317    0.486973\n",
              "min     16.000000    0.000000    0.000000  ...    0.000000    0.000000    0.000000\n",
              "25%     39.000000    0.000000    0.000000  ...    0.000000    0.000000    0.000000\n",
              "50%     47.500000    1.000000    0.000000  ...    0.000000    0.000000    1.000000\n",
              "75%     57.000000    1.000000    1.000000  ...    1.000000    0.000000    1.000000\n",
              "max     90.000000    1.000000    1.000000  ...    1.000000    1.000000    1.000000\n",
              "\n",
              "[8 rows x 17 columns]"
            ]
          },
          "metadata": {},
          "execution_count": 111
        }
      ],
      "source": [
        "#lets describe the data\n",
        "df.describe()"
      ]
    },
    {
      "cell_type": "code",
      "execution_count": 112,
      "metadata": {
        "colab": {
          "base_uri": "https://localhost:8080/"
        },
        "id": "QIBC82zzqdEa",
        "outputId": "b1ac388a-6056-43b4-fbff-0bb72c4569db"
      },
      "outputs": [
        {
          "output_type": "stream",
          "name": "stdout",
          "text": [
            "<class 'pandas.core.frame.DataFrame'>\n",
            "RangeIndex: 520 entries, 0 to 519\n",
            "Data columns (total 17 columns):\n",
            " #   Column              Non-Null Count  Dtype\n",
            "---  ------              --------------  -----\n",
            " 0   Age                 520 non-null    int64\n",
            " 1   Gender              520 non-null    int64\n",
            " 2   Polyuria            520 non-null    int64\n",
            " 3   Polydipsia          520 non-null    int64\n",
            " 4   sudden weight loss  520 non-null    int64\n",
            " 5   weakness            520 non-null    int64\n",
            " 6   Polyphagia          520 non-null    int64\n",
            " 7   Genital thrush      520 non-null    int64\n",
            " 8   visual blurring     520 non-null    int64\n",
            " 9   Itching             520 non-null    int64\n",
            " 10  Irritability        520 non-null    int64\n",
            " 11  delayed healing     520 non-null    int64\n",
            " 12  partial paresis     520 non-null    int64\n",
            " 13  muscle stiffness    520 non-null    int64\n",
            " 14  Alopecia            520 non-null    int64\n",
            " 15  Obesity             520 non-null    int64\n",
            " 16  class               520 non-null    int64\n",
            "dtypes: int64(17)\n",
            "memory usage: 69.2 KB\n"
          ]
        }
      ],
      "source": [
        "#information of dataset\n",
        "df.info()"
      ]
    },
    {
      "cell_type": "code",
      "execution_count": 113,
      "metadata": {
        "colab": {
          "base_uri": "https://localhost:8080/"
        },
        "id": "9yZMKUMyqdEb",
        "outputId": "acd4b2e9-ad16-4eff-dfec-688d8f65240e"
      },
      "outputs": [
        {
          "output_type": "execute_result",
          "data": {
            "text/plain": [
              "False"
            ]
          },
          "metadata": {},
          "execution_count": 113
        }
      ],
      "source": [
        "#any null values \n",
        "#not neccessary in above information we can see\n",
        "df.isnull().values.any()"
      ]
    },
    {
      "cell_type": "code",
      "execution_count": 114,
      "metadata": {
        "colab": {
          "base_uri": "https://localhost:8080/",
          "height": 386
        },
        "id": "bvsSe53RqdEc",
        "outputId": "c2bae8b1-3534-4fd0-d5f7-9a57424cbf20"
      },
      "outputs": [
        {
          "output_type": "execute_result",
          "data": {
            "text/plain": [
              "<matplotlib.axes._subplots.AxesSubplot at 0x7f49b8382250>"
            ]
          },
          "metadata": {},
          "execution_count": 114
        },
        {
          "output_type": "display_data",
          "data": {
            "image/png": "[encoded data removed]",
            "text/plain": [
              "<Figure size 432x288 with 2 Axes>"
            ]
          },
          "metadata": {
            "needs_background": "light"
          }
        }
      ],
      "source": [
        "#correlation\n",
        "\n",
        "sns.heatmap(df.corr())\n",
        "# we can see skin thickness,insulin,pregnencies and age are full independent to each other\n",
        "#age and pregencies has negative correlation"
      ]
    },
    {
      "cell_type": "code",
      "execution_count": 115,
      "metadata": {
        "colab": {
          "base_uri": "https://localhost:8080/",
          "height": 304
        },
        "id": "ClXIKs7BqdEd",
        "outputId": "bdaff5c1-85fe-4fde-a772-a15e3b285a04"
      },
      "outputs": [
        {
          "output_type": "execute_result",
          "data": {
            "text/plain": [
              "<matplotlib.axes._subplots.AxesSubplot at 0x7f49b82b4790>"
            ]
          },
          "metadata": {},
          "execution_count": 115
        },
        {
          "output_type": "display_data",
          "data": {
            "image/png": "[encoded data removed]",
            "text/plain": [
              "<Figure size 432x288 with 1 Axes>"
            ]
          },
          "metadata": {
            "needs_background": "light"
          }
        }
      ],
      "source": [
        "#lets count total outcome in each target 0 1\n",
        "#0 means no diabetes\n",
        "#1 means patient with diabetes\n",
        "sns.countplot(y=df['class'],palette='Set1')"
      ]
    },
    {
      "cell_type": "code",
      "execution_count": 121,
      "metadata": {
        "id": "1195nAIrqdEg"
      },
      "outputs": [],
      "source": [
        "#lets extract features and targets\n",
        "X=df.drop(columns=['class'])\n",
        "y=df['class']"
      ]
    },
    {
      "cell_type": "code",
      "execution_count": 122,
      "metadata": {
        "id": "I31OK7qWqdEh"
      },
      "outputs": [],
      "source": [
        "#Splitting train test data 80 20 ratio\n",
        "from sklearn.model_selection import train_test_split\n",
        "train_X,test_X,train_y,test_y=train_test_split(X,y,test_size=0.2)"
      ]
    },
    {
      "cell_type": "code",
      "execution_count": 123,
      "metadata": {
        "colab": {
          "base_uri": "https://localhost:8080/"
        },
        "id": "aX11CEcAqdEh",
        "outputId": "48e1361b-01e3-4d34-d9ab-c729952e1a7a"
      },
      "outputs": [
        {
          "output_type": "execute_result",
          "data": {
            "text/plain": [
              "((416, 16), (104, 16), (416,), (104,))"
            ]
          },
          "metadata": {},
          "execution_count": 123
        }
      ],
      "source": [
        "train_X.shape,test_X.shape,train_y.shape,test_y.shape"
      ]
    },
    {
      "cell_type": "code",
      "execution_count": 124,
      "metadata": {
        "id": "sfNqaBnxqdEh"
      },
      "outputs": [],
      "source": [
        "from sklearn.metrics import confusion_matrix,accuracy_score,make_scorer\n",
        "from sklearn.model_selection import cross_validate\n",
        "from sklearn.metrics import f1_score\n",
        "\n",
        "def tn(y_true, y_pred): return confusion_matrix(y_true, y_pred)[0, 0]\n",
        "def fp(y_true, y_pred): return confusion_matrix(y_true, y_pred)[0, 1]\n",
        "def fn(y_true, y_pred): return confusion_matrix(y_true, y_pred)[1, 0]\n",
        "def tp(y_true, y_pred): return confusion_matrix(y_true, y_pred)[1, 1]\n",
        "\n",
        "#cross validation purpose\n",
        "scoring = {'accuracy': make_scorer(accuracy_score),'prec': 'precision'}\n",
        "scoring = {'tp': make_scorer(tp), 'tn': make_scorer(tn),\n",
        "           'fp': make_scorer(fp), 'fn': make_scorer(fn)}\n",
        "\n",
        "\n",
        "def display_result(result):\n",
        "    print(\"TP: \",result['test_tp']\n",
        "    )\n",
        "    print(\"TN: \",result['test_tn'])\n",
        "    print(\"FN: \",result['test_fn'])\n",
        "    print(\"FP: \",result['test_fp'])"
      ]
    },
    {
      "cell_type": "code",
      "execution_count": 125,
      "metadata": {
        "colab": {
          "base_uri": "https://localhost:8080/"
        },
        "id": "5JziXbPlqdEi",
        "outputId": "7e00c130-6a25-4ab0-80f4-fddcb2eb92ff"
      },
      "outputs": [
        {
          "output_type": "stream",
          "name": "stderr",
          "text": [
            "/usr/local/lib/python3.7/dist-packages/sklearn/linear_model/_logistic.py:818: ConvergenceWarning: lbfgs failed to converge (status=1):\n",
            "STOP: TOTAL NO. of ITERATIONS REACHED LIMIT.\n",
            "\n",
            "Increase the number of iterations (max_iter) or scale the data as shown in:\n",
            "    https://scikit-learn.org/stable/modules/preprocessing.html\n",
            "Please also refer to the documentation for alternative solver options:\n",
            "    https://scikit-learn.org/stable/modules/linear_model.html#logistic-regression\n",
            "  extra_warning_msg=_LOGISTIC_SOLVER_CONVERGENCE_MSG,\n",
            "/usr/local/lib/python3.7/dist-packages/sklearn/linear_model/_logistic.py:818: ConvergenceWarning: lbfgs failed to converge (status=1):\n",
            "STOP: TOTAL NO. of ITERATIONS REACHED LIMIT.\n",
            "\n",
            "Increase the number of iterations (max_iter) or scale the data as shown in:\n",
            "    https://scikit-learn.org/stable/modules/preprocessing.html\n",
            "Please also refer to the documentation for alternative solver options:\n",
            "    https://scikit-learn.org/stable/modules/linear_model.html#logistic-regression\n",
            "  extra_warning_msg=_LOGISTIC_SOLVER_CONVERGENCE_MSG,\n",
            "/usr/local/lib/python3.7/dist-packages/sklearn/linear_model/_logistic.py:818: ConvergenceWarning: lbfgs failed to converge (status=1):\n",
            "STOP: TOTAL NO. of ITERATIONS REACHED LIMIT.\n",
            "\n",
            "Increase the number of iterations (max_iter) or scale the data as shown in:\n",
            "    https://scikit-learn.org/stable/modules/preprocessing.html\n",
            "Please also refer to the documentation for alternative solver options:\n",
            "    https://scikit-learn.org/stable/modules/linear_model.html#logistic-regression\n",
            "  extra_warning_msg=_LOGISTIC_SOLVER_CONVERGENCE_MSG,\n",
            "/usr/local/lib/python3.7/dist-packages/sklearn/linear_model/_logistic.py:818: ConvergenceWarning: lbfgs failed to converge (status=1):\n",
            "STOP: TOTAL NO. of ITERATIONS REACHED LIMIT.\n",
            "\n",
            "Increase the number of iterations (max_iter) or scale the data as shown in:\n",
            "    https://scikit-learn.org/stable/modules/preprocessing.html\n",
            "Please also refer to the documentation for alternative solver options:\n",
            "    https://scikit-learn.org/stable/modules/linear_model.html#logistic-regression\n",
            "  extra_warning_msg=_LOGISTIC_SOLVER_CONVERGENCE_MSG,\n",
            "/usr/local/lib/python3.7/dist-packages/sklearn/linear_model/_logistic.py:818: ConvergenceWarning: lbfgs failed to converge (status=1):\n",
            "STOP: TOTAL NO. of ITERATIONS REACHED LIMIT.\n",
            "\n",
            "Increase the number of iterations (max_iter) or scale the data as shown in:\n",
            "    https://scikit-learn.org/stable/modules/preprocessing.html\n",
            "Please also refer to the documentation for alternative solver options:\n",
            "    https://scikit-learn.org/stable/modules/linear_model.html#logistic-regression\n",
            "  extra_warning_msg=_LOGISTIC_SOLVER_CONVERGENCE_MSG,\n"
          ]
        },
        {
          "output_type": "stream",
          "name": "stdout",
          "text": [
            "\n",
            "Accuracy : 0.9711538461538461\tROC : 0.9718749999999999\tF1_score : 0.9763779527559054\n",
            "TP:  [24 23 23 23 26 26 21 24 24 22]\n",
            "TN:  [14 16 14 14 15 13 14 16 13 15]\n",
            "FN:  [2 3 3 3 0 0 4 1 1 3]\n",
            "FP:  [2 0 2 2 1 3 2 0 3 1]\n"
          ]
        },
        {
          "output_type": "stream",
          "name": "stderr",
          "text": [
            "/usr/local/lib/python3.7/dist-packages/sklearn/linear_model/_logistic.py:818: ConvergenceWarning: lbfgs failed to converge (status=1):\n",
            "STOP: TOTAL NO. of ITERATIONS REACHED LIMIT.\n",
            "\n",
            "Increase the number of iterations (max_iter) or scale the data as shown in:\n",
            "    https://scikit-learn.org/stable/modules/preprocessing.html\n",
            "Please also refer to the documentation for alternative solver options:\n",
            "    https://scikit-learn.org/stable/modules/linear_model.html#logistic-regression\n",
            "  extra_warning_msg=_LOGISTIC_SOLVER_CONVERGENCE_MSG,\n",
            "/usr/local/lib/python3.7/dist-packages/sklearn/linear_model/_logistic.py:818: ConvergenceWarning: lbfgs failed to converge (status=1):\n",
            "STOP: TOTAL NO. of ITERATIONS REACHED LIMIT.\n",
            "\n",
            "Increase the number of iterations (max_iter) or scale the data as shown in:\n",
            "    https://scikit-learn.org/stable/modules/preprocessing.html\n",
            "Please also refer to the documentation for alternative solver options:\n",
            "    https://scikit-learn.org/stable/modules/linear_model.html#logistic-regression\n",
            "  extra_warning_msg=_LOGISTIC_SOLVER_CONVERGENCE_MSG,\n",
            "/usr/local/lib/python3.7/dist-packages/sklearn/linear_model/_logistic.py:818: ConvergenceWarning: lbfgs failed to converge (status=1):\n",
            "STOP: TOTAL NO. of ITERATIONS REACHED LIMIT.\n",
            "\n",
            "Increase the number of iterations (max_iter) or scale the data as shown in:\n",
            "    https://scikit-learn.org/stable/modules/preprocessing.html\n",
            "Please also refer to the documentation for alternative solver options:\n",
            "    https://scikit-learn.org/stable/modules/linear_model.html#logistic-regression\n",
            "  extra_warning_msg=_LOGISTIC_SOLVER_CONVERGENCE_MSG,\n"
          ]
        }
      ],
      "source": [
        "#Lets build the model\n",
        "\n",
        "#Logistic Regression\n",
        "from sklearn.linear_model import LogisticRegression\n",
        "from sklearn.metrics import roc_auc_score\n",
        "\n",
        "acc=[]\n",
        "roc=[]\n",
        "f1_scr=[]\n",
        "\n",
        "clf=LogisticRegression()\n",
        "clf.fit(train_X,train_y)\n",
        "y_pred=clf.predict(test_X)\n",
        "#find accuracy\n",
        "ac=accuracy_score(test_y,y_pred)\n",
        "acc.append(ac)\n",
        "\n",
        "#find the ROC_AOC curve\n",
        "rc=roc_auc_score(test_y,y_pred)\n",
        "roc.append(rc)\n",
        "\n",
        "\n",
        "#cross val score\n",
        "result=cross_validate(clf,train_X,train_y,scoring=scoring,cv=10)\n",
        "\n",
        "#f1_score\n",
        "f1score = f1_score(test_y, y_pred)\n",
        "\n",
        "print(\"\\nAccuracy : {0}\\tROC : {1}\\tF1_score : {2}\".format(ac,rc,f1score))\n",
        "\n",
        "display_result(result)\n",
        "f1_scr.append(f1score)\n",
        "#display predicted values uncomment below line\n",
        "#pd.DataFrame(data={'Actual':test_y,'Predicted':y_pred}).head()"
      ]
    },
    {
      "cell_type": "code",
      "execution_count": 126,
      "metadata": {
        "colab": {
          "base_uri": "https://localhost:8080/"
        },
        "id": "TY7oUjsYqdEi",
        "outputId": "bb8b3ced-9f2a-44d1-bdfc-bcd8205d138c"
      },
      "outputs": [
        {
          "output_type": "stream",
          "name": "stdout",
          "text": [
            "\n",
            "Accuracy : 0.9711538461538461\tROC : 0.9718749999999999\tF1_score : 0.9763779527559054\n",
            "TP:  [24 24 22 23 26 26 22 24 23 22]\n",
            "TN:  [14 15 14 14 13 12 15 15 14 14]\n",
            "FN:  [2 2 4 3 0 0 3 1 2 3]\n",
            "FP:  [2 1 2 2 3 4 1 1 2 2]\n"
          ]
        }
      ],
      "source": [
        "#Support Vector Machine\n",
        "from sklearn.svm import SVC\n",
        "\n",
        "clf=SVC(kernel='linear')\n",
        "clf.fit(train_X,train_y)\n",
        "y_pred=clf.predict(test_X)\n",
        "#find accuracy\n",
        "ac=accuracy_score(test_y,y_pred)\n",
        "acc.append(ac)\n",
        "\n",
        "#find the ROC_AOC curve\n",
        "rc=roc_auc_score(test_y,y_pred)\n",
        "roc.append(rc)\n",
        "\n",
        "\n",
        "#cross val score\n",
        "result=cross_validate(clf,train_X,train_y,scoring=scoring,cv=10)\n",
        "\n",
        "#f1_score\n",
        "f1score = f1_score(test_y, y_pred)\n",
        "\n",
        "print(\"\\nAccuracy : {0}\\tROC : {1}\\tF1_score : {2}\".format(ac,rc,f1score))\n",
        "\n",
        "display_result(result)\n",
        "f1_scr.append(f1score)\n",
        "#display predicted values uncomment below line\n",
        "#pd.DataFrame(data={'Actual':test_y,'Predicted':y_pred}).head()"
      ]
    },
    {
      "cell_type": "code",
      "execution_count": 127,
      "metadata": {
        "colab": {
          "base_uri": "https://localhost:8080/"
        },
        "id": "PP2d18fzqdEi",
        "outputId": "32db2699-a49f-4141-c2c8-85d124d41c54"
      },
      "outputs": [
        {
          "output_type": "stream",
          "name": "stdout",
          "text": [
            "\n",
            "Accuracy : 0.9711538461538461\tROC : 0.9718749999999999\tF1_score : 0.9763779527559054\n",
            "TP:  [22 22 20 23 22 24 22 22 20 20]\n",
            "TN:  [14 15 16 15 14 16 14 16 16 14]\n",
            "FN:  [4 4 6 3 4 2 3 3 5 5]\n",
            "FP:  [2 1 0 1 2 0 2 0 0 2]\n"
          ]
        }
      ],
      "source": [
        "#KNN\n",
        "\n",
        "from sklearn.neighbors import KNeighborsClassifier\n",
        "\n",
        "clf=KNeighborsClassifier(n_neighbors=3)\n",
        "clf.fit(train_X,train_y)\n",
        "y_pred=clf.predict(test_X)\n",
        "#find accuracy\n",
        "ac=accuracy_score(test_y,y_pred)\n",
        "acc.append(ac)\n",
        "\n",
        "#find the ROC_AOC curve\n",
        "rc=roc_auc_score(test_y,y_pred)\n",
        "roc.append(rc)\n",
        "\n",
        "\n",
        "#cross val score\n",
        "result=cross_validate(clf,train_X,train_y,scoring=scoring,cv=10)\n",
        "\n",
        "#f1_score\n",
        "f1score = f1_score(test_y, y_pred)\n",
        "\n",
        "print(\"\\nAccuracy : {0}\\tROC : {1}\\tF1_score : {2}\".format(ac,rc,f1score))\n",
        "\n",
        "display_result(result)\n",
        "f1_scr.append(f1score)\n",
        "#display predicted values uncomment below line\n",
        "#pd.DataFrame(data={'Actual':test_y,'Predicted':y_pred}).head()"
      ]
    },
    {
      "cell_type": "code",
      "execution_count": 128,
      "metadata": {
        "colab": {
          "base_uri": "https://localhost:8080/"
        },
        "id": "etAvPzpCqdEj",
        "outputId": "d7fc3ab6-bab6-4dfb-a706-d44205c28f3f"
      },
      "outputs": [
        {
          "output_type": "stream",
          "name": "stdout",
          "text": [
            "\n",
            "Accuracy : 1.0\tROC : 1.0\tF1_score : 1.0\n",
            "TP:  [25 26 25 26 26 26 25 24 25 24]\n",
            "TN:  [16 16 16 15 16 15 16 16 15 15]\n",
            "FN:  [1 0 1 0 0 0 0 1 0 1]\n",
            "FP:  [0 0 0 1 0 1 0 0 1 1]\n"
          ]
        }
      ],
      "source": [
        "#Random forest\n",
        "from sklearn.ensemble import RandomForestClassifier\n",
        "\n",
        "clf=RandomForestClassifier()\n",
        "clf.fit(train_X,train_y)\n",
        "y_pred=clf.predict(test_X)\n",
        "#find accuracy\n",
        "ac=accuracy_score(test_y,y_pred)\n",
        "acc.append(ac)\n",
        "\n",
        "#find the ROC_AOC curve\n",
        "rc=roc_auc_score(test_y,y_pred)\n",
        "roc.append(rc)\n",
        "\n",
        "\n",
        "#cross val score\n",
        "result=cross_validate(clf,train_X,train_y,scoring=scoring,cv=10)\n",
        "\n",
        "#f1_score\n",
        "f1score = f1_score(test_y, y_pred)\n",
        "\n",
        "print(\"\\nAccuracy : {0}\\tROC : {1}\\tF1_score : {2}\".format(ac,rc,f1score))\n",
        "\n",
        "display_result(result)\n",
        "f1_scr.append(f1score)\n",
        "#display predicted values uncomment below line\n",
        "#pd.DataFrame(data={'Actual':test_y,'Predicted':y_pred}).head()"
      ]
    },
    {
      "cell_type": "code",
      "execution_count": 129,
      "metadata": {
        "colab": {
          "base_uri": "https://localhost:8080/"
        },
        "id": "3I6WB8u9qdEj",
        "outputId": "e1bc903a-1c1e-424d-e402-4ad8c13c3b27"
      },
      "outputs": [
        {
          "output_type": "stream",
          "name": "stdout",
          "text": [
            "\n",
            "Accuracy : 0.9711538461538461\tROC : 0.9671875\tF1_score : 0.9767441860465116\n",
            "TP:  [22 24 21 22 26 26 23 23 21 20]\n",
            "TN:  [13 14 15 14 13 12 13 13 12 14]\n",
            "FN:  [4 2 5 4 0 0 2 2 4 5]\n",
            "FP:  [3 2 1 2 3 4 3 3 4 2]\n"
          ]
        }
      ],
      "source": [
        "#Naive Bayes Theorem\n",
        "#import library\n",
        "from sklearn.naive_bayes import GaussianNB\n",
        "\n",
        "clf=GaussianNB()\n",
        "clf.fit(train_X,train_y)\n",
        "y_pred=clf.predict(test_X)\n",
        "#find accuracy\n",
        "ac=accuracy_score(test_y,y_pred)\n",
        "acc.append(ac)\n",
        "\n",
        "#find the ROC_AOC curve\n",
        "rc=roc_auc_score(test_y,y_pred)\n",
        "roc.append(rc)\n",
        "\n",
        "\n",
        "#cross val score\n",
        "result=cross_validate(clf,train_X,train_y,scoring=scoring,cv=10)\n",
        "\n",
        "#f1_score\n",
        "f1score = f1_score(test_y, y_pred)\n",
        "\n",
        "print(\"\\nAccuracy : {0}\\tROC : {1}\\tF1_score : {2}\".format(ac,rc,f1score))\n",
        "\n",
        "display_result(result)\n",
        "f1_scr.append(f1score)\n",
        "#display predicted values uncomment below line\n",
        "#pd.DataFrame(data={'Actual':test_y,'Predicted':y_pred}).head()"
      ]
    },
    {
      "cell_type": "code",
      "execution_count": 130,
      "metadata": {
        "colab": {
          "base_uri": "https://localhost:8080/"
        },
        "id": "nH7_apHVqdEj",
        "outputId": "49d70269-7160-4f7f-9996-c1ed1e1de91a"
      },
      "outputs": [
        {
          "output_type": "stream",
          "name": "stdout",
          "text": [
            "\n",
            "Accuracy : 1.0\tROC : 1.0\tF1_score : 1.0\n",
            "TP:  [25 26 25 26 26 26 24 24 25 23]\n",
            "TN:  [16 14 15 15 16 15 16 16 15 15]\n",
            "FN:  [1 0 1 0 0 0 1 1 0 2]\n",
            "FP:  [0 2 1 1 0 1 0 0 1 1]\n"
          ]
        }
      ],
      "source": [
        "#Gradient Boosting Classifier\n",
        "from sklearn.ensemble import GradientBoostingClassifier\n",
        "clf=GradientBoostingClassifier(n_estimators=50,learning_rate=0.2)\n",
        "clf.fit(train_X,train_y)\n",
        "y_pred=clf.predict(test_X)\n",
        "#find accuracy\n",
        "ac=accuracy_score(test_y,y_pred)\n",
        "acc.append(ac)\n",
        "\n",
        "#find the ROC_AOC curve\n",
        "rc=roc_auc_score(test_y,y_pred)\n",
        "roc.append(rc)\n",
        "\n",
        "\n",
        "#cross val score\n",
        "result=cross_validate(clf,train_X,train_y,scoring=scoring,cv=10)\n",
        "\n",
        "#f1_score\n",
        "f1score = f1_score(test_y, y_pred)\n",
        "\n",
        "print(\"\\nAccuracy : {0}\\tROC : {1}\\tF1_score : {2}\".format(ac,rc,f1score))\n",
        "\n",
        "display_result(result)\n",
        "f1_scr.append(f1score)\n",
        "#display predicted values uncomment below line\n",
        "#pd.DataFrame(data={'Actual':test_y,'Predicted':y_pred}).head()"
      ]
    },
    {
      "cell_type": "code",
      "execution_count": 131,
      "metadata": {
        "colab": {
          "base_uri": "https://localhost:8080/",
          "height": 821
        },
        "id": "2LFGtoNxqdEk",
        "outputId": "2052cb7f-03be-4708-dcde-18bdb123a149"
      },
      "outputs": [
        {
          "output_type": "display_data",
          "data": {
            "image/png": "[encoded data removed]",
            "text/plain": [
              "<Figure size 648x288 with 1 Axes>"
            ]
          },
          "metadata": {
            "needs_background": "light"
          }
        },
        {
          "output_type": "display_data",
          "data": {
            "image/png": "[encoded data removed]",
            "text/plain": [
              "<Figure size 648x288 with 1 Axes>"
            ]
          },
          "metadata": {
            "needs_background": "light"
          }
        },
        {
          "output_type": "display_data",
          "data": {
            "image/png": "[encoded data removed]",
            "text/plain": [
              "<Figure size 648x288 with 1 Axes>"
            ]
          },
          "metadata": {
            "needs_background": "light"
          }
        }
      ],
      "source": [
        "#lets plot the bar graph\n",
        "\n",
        "ax=plt.figure(figsize=(9,4))\n",
        "plt.bar(['Logistic Regression','SVM','KNN','Random Forest','Naivye Bayes','Gradient Boosting'],acc,label='Accuracy')\n",
        "plt.ylabel('Accuracy Score')\n",
        "plt.xlabel('Algortihms')\n",
        "plt.show()\n",
        "\n",
        "ax=plt.figure(figsize=(9,4))\n",
        "plt.bar(['Logistic Regression','SVM','KNN','Random Forest','Naivye Bayes','Gradient Boosting'],roc,label='ROC AUC')\n",
        "plt.ylabel('ROC AUC')\n",
        "plt.xlabel('Algortihms')\n",
        "plt.show()\n",
        "\n",
        "ax=plt.figure(figsize=(9,4))\n",
        "plt.bar(['Logistic Regression','SVM','KNN','Random Forest','Naivye Bayes','Gradient Boosting'],f1_scr,label='F1-Score')\n",
        "plt.ylabel('F1-Score')\n",
        "plt.xlabel('Algortihms')\n",
        "plt.show()"
      ]
    },
    {
      "cell_type": "markdown",
      "source": [
        "Random forest and Gradient Boosting has highest accuracy , F1-score and ROC_AUC curve 100%"
      ],
      "metadata": {
        "id": "X09rZHvL7TLk"
      }
    }
  ],
  "metadata": {
    "kernelspec": {
      "display_name": "Python 3",
      "language": "python",
      "name": "python3"
    },
    "language_info": {
      "codemirror_mode": {
        "name": "ipython",
        "version": 3
      },
      "file_extension": ".py",
      "mimetype": "text/x-python",
      "name": "python",
      "nbconvert_exporter": "python",
      "pygments_lexer": "ipython3",
      "version": "3.7.3"
    },
    "colab": {
      "name": "Diabetes_prediction_using_Another_dataset.ipynb",
      "provenance": [],
      "collapsed_sections": [],
      "include_colab_link": true
    }
  },
  "nbformat": 4,
  "nbformat_minor": 0
}